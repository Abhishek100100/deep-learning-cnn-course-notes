{
 "cells": [
  {
   "cell_type": "markdown",
   "metadata": {},
   "source": [
    "# My Lectures Notes of [CNN Course](https://www.coursera.org/learn/convolutional-neural-networks/)\n",
    "It is short overview of what I've learned in CNN couse of [Deep Learning specialization](deeplearning.net) from Coursera by Andrew Ng.\n",
    "\n",
    "## CNN Backpropagation\n",
    "\n",
    "it is not covered in course it self but has quick overview in exercises."
   ]
  },
  {
   "cell_type": "code",
   "execution_count": null,
   "metadata": {
    "collapsed": true
   },
   "outputs": [],
   "source": []
  }
 ],
 "metadata": {
  "kernelspec": {
   "display_name": "Python 3",
   "language": "python",
   "name": "python3"
  },
  "language_info": {
   "codemirror_mode": {
    "name": "ipython",
    "version": 3
   },
   "file_extension": ".py",
   "mimetype": "text/x-python",
   "name": "python",
   "nbconvert_exporter": "python",
   "pygments_lexer": "ipython3",
   "version": "3.6.3"
  }
 },
 "nbformat": 4,
 "nbformat_minor": 2
}
