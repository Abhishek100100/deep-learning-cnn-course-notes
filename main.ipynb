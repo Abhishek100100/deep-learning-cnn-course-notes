{
 "cells": [
  {
   "cell_type": "markdown",
   "metadata": {},
   "source": [
    "# My Lectures Notes of [CNN Course](https://www.coursera.org/learn/convolutional-neural-networks/)\n",
    "It is short overview of what I've learned in CNN couse of [Deep Learning specialization](deeplearning.net) from Coursera by Andrew Ng."
   ]
  },
  {
   "cell_type": "markdown",
   "metadata": {},
   "source": [
    "## Simple Convolution matrixes\n",
    "edge detection Kernal\n",
    "$$\n",
    "K =\n",
    "  \\left[ {\\begin{array}{ccc}\n",
    "   -1 & 0 & 1 \\\\\n",
    "   -1 & 0 & 1 \\\\\n",
    "   -1 & 0 & 1 \\\\\n",
    "  \\end{array} } \\right]\n",
    "$$\n",
    "\n",
    "#### in python"
   ]
  },
  {
   "cell_type": "code",
   "execution_count": 1,
   "metadata": {
    "collapsed": true
   },
   "outputs": [],
   "source": [
    "# TODO: apply conv matrixes to the image and show result"
   ]
  },
  {
   "cell_type": "markdown",
   "metadata": {
    "collapsed": true
   },
   "source": [
    "## CNN Technics\n",
    "### Padding \n",
    "_Adds zeros around image to avoid shrinking image and losing information on the edge._\n",
    "Size of zeros = `(p - 1)  / 2`\n",
    "\n",
    "### Strided convolution\n",
    "**params:**\n",
    "\n",
    "- $f^{[l]}$ - filter size\n",
    "- $p^{[l]}$ - padding\n",
    "- $s^{[l]}$ - stride\n",
    "- $n_{c}^{[l]}$ - number of channels\n",
    "\n",
    "**input**: \n",
    "$n_{h}^{[l-1]} n_{w}^{[l-1]} n_{c}^{[l-1]}$. \n",
    "\n",
    "**output**: \n",
    "$n_{h}^{[l]} n_{w}^{[l]} n_{c}^{[l]}$.\n",
    "\n",
    "$n^{[l]} = floor(\\frac{n^{[l-1]} + 2p^{[l-1]} - f^{[l-1]}}{s^{[l-1]} + 1})$\n",
    "\n",
    "**each filter has shape:**:\n",
    "$f^{[l]} f^{[l]} n_{c}^{[l-1]}$\n",
    "\n",
    "**activations:**\n",
    "$a^{[l]} -> n_{h}^{[l]} n_{w}^{[l]} n_{c}^{[l]}$.\n",
    "\n",
    "### Pooling layer\n",
    "Could be max pooling, average pooling. It splites matrix in the regions and get max/avg value in each region and store it in the new matrix.\n",
    "\n",
    "**params:**\n",
    "- f-size of region\n",
    "- s-stride.\n",
    "\n",
    "**properties**\n",
    "- has no parameters to learn\n",
    "- common patter of usage: \n",
    "\n",
    "`conv -> pool -> conv -> pool -> … -> fc -> ... -> fc -> softmax.`\n",
    "\n",
    "- activation size tends to drop gradually but number of channels are increase\n",
    "- but sure influent on back propagation\n",
    "\n",
    "\n",
    "## CNN Backpropagation\n",
    "it is not covered in the course itself but has quick overview in a exercises.\n",
    "\n",
    "## CNN Features\n",
    "- very good at capturing area features\n",
    "- parameter sharing - a feature detector that’s useful in one part of the image is probably useful in another part of the image\n",
    "- sparsity of connections - in each layer, each output value depends only on a small number of inputs (much less than fully connected layer)."
   ]
  },
  {
   "cell_type": "code",
   "execution_count": null,
   "metadata": {
    "collapsed": true
   },
   "outputs": [],
   "source": []
  }
 ],
 "metadata": {
  "kernelspec": {
   "display_name": "Python 3",
   "language": "python",
   "name": "python3"
  },
  "language_info": {
   "codemirror_mode": {
    "name": "ipython",
    "version": 3
   },
   "file_extension": ".py",
   "mimetype": "text/x-python",
   "name": "python",
   "nbconvert_exporter": "python",
   "pygments_lexer": "ipython3",
   "version": "3.6.3"
  }
 },
 "nbformat": 4,
 "nbformat_minor": 2
}
